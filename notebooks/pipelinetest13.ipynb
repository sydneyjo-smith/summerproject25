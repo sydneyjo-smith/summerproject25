{
 "cells": [
  {
   "cell_type": "code",
   "execution_count": 1,
   "id": "e771d25e",
   "metadata": {},
   "outputs": [
    {
     "name": "stdout",
     "output_type": "stream",
     "text": [
      "[OK] T0004-04-06-2019_BL (2).JPG -> T0004-04-06-2019_BL (2)_processed_piplinetest13.JPG\n",
      "[OK] T0011-06-06-2019_N.JPG -> T0011-06-06-2019_N_processed_piplinetest13.JPG\n",
      "[OK] T0013-06-06-2019_BL (1).JPG -> T0013-06-06-2019_BL (1)_processed_piplinetest13.JPG\n",
      "[OK] T0013-06-06-2019_N.JPG -> T0013-06-06-2019_N_processed_piplinetest13.JPG\n",
      "[OK] T0017_10-06-2019 (1).JPG -> T0017_10-06-2019 (1)_processed_piplinetest13.JPG\n",
      "[OK] T0019_2019-06-10_BL (1).JPG -> T0019_2019-06-10_BL (1)_processed_piplinetest13.JPG\n",
      "[OK] T0026_13-06-2019_N.JPG -> T0026_13-06-2019_N_processed_piplinetest13.JPG\n",
      "[OK] T0027_13-06-2019_N.JPG -> T0027_13-06-2019_N_processed_piplinetest13.JPG\n",
      "[OK] T0028_13-06-2019_BL (2).JPG -> T0028_13-06-2019_BL (2)_processed_piplinetest13.JPG\n",
      "[OK] T0036_17-06-2019_N.JPG -> T0036_17-06-2019_N_processed_piplinetest13.JPG\n",
      "[OK] T0040_18-06-2019_N.JPG -> T0040_18-06-2019_N_processed_piplinetest13.JPG\n",
      "[OK] T0043_19-06-2019_N.JPG -> T0043_19-06-2019_N_processed_piplinetest13.JPG\n",
      "[OK] T0044_19-06-2019_BL (2).JPG -> T0044_19-06-2019_BL (2)_processed_piplinetest13.JPG\n",
      "[FAIL] T0048_20-06-2019_BL (3).JPG: Aspect ratio 0.46 out of range for image: T0048_20-06-2019_BL (3).JPG\n"
     ]
    },
    {
     "ename": "KeyboardInterrupt",
     "evalue": "",
     "output_type": "error",
     "traceback": [
      "\u001b[0;31m---------------------------------------------------------------------------\u001b[0m",
      "\u001b[0;31mKeyboardInterrupt\u001b[0m                         Traceback (most recent call last)",
      "Cell \u001b[0;32mIn[1], line 33\u001b[0m\n\u001b[1;32m     30\u001b[0m \u001b[38;5;28;01mfor\u001b[39;00m in_path \u001b[38;5;129;01min\u001b[39;00m files:\n\u001b[1;32m     31\u001b[0m     \u001b[38;5;28;01mtry\u001b[39;00m:\n\u001b[1;32m     32\u001b[0m         \u001b[38;5;66;03m# 1) Homomorphic filtering\u001b[39;00m\n\u001b[0;32m---> 33\u001b[0m         hf_img, fname \u001b[38;5;241m=\u001b[39m \u001b[43mhomomorphic_filter_color\u001b[49m\u001b[43m(\u001b[49m\u001b[43min_path\u001b[49m\u001b[43m)\u001b[49m\n\u001b[1;32m     35\u001b[0m         \u001b[38;5;66;03m# 2) CLAHE\u001b[39;00m\n\u001b[1;32m     36\u001b[0m         clahe_img, _ \u001b[38;5;241m=\u001b[39m clahe_preserve_color(hf_img, fname)\n",
      "File \u001b[0;32m~/Desktop/summerproject25/notebooks/../src/homomorphic_filter.py:71\u001b[0m, in \u001b[0;36mhomomorphic_filter_color\u001b[0;34m(img_or_filename, fname, gamma_l, gamma_h, cutoff)\u001b[0m\n\u001b[1;32m     69\u001b[0m \u001b[38;5;66;03m# Inverse FFT\u001b[39;00m\n\u001b[1;32m     70\u001b[0m dft_ishift \u001b[38;5;241m=\u001b[39m np\u001b[38;5;241m.\u001b[39mfft\u001b[38;5;241m.\u001b[39mifftshift(filtered)\n\u001b[0;32m---> 71\u001b[0m img_back \u001b[38;5;241m=\u001b[39m \u001b[43mnp\u001b[49m\u001b[38;5;241;43m.\u001b[39;49m\u001b[43mfft\u001b[49m\u001b[38;5;241;43m.\u001b[39;49m\u001b[43mifft2\u001b[49m\u001b[43m(\u001b[49m\u001b[43mdft_ishift\u001b[49m\u001b[43m)\u001b[49m\n\u001b[1;32m     72\u001b[0m img_homo \u001b[38;5;241m=\u001b[39m np\u001b[38;5;241m.\u001b[39mreal(img_back)\n\u001b[1;32m     74\u001b[0m \u001b[38;5;66;03m# Exponentiate and rescale to [0,255]\u001b[39;00m\n",
      "File \u001b[0;32m~/Desktop/summerproject25/venv/lib/python3.9/site-packages/numpy/fft/_pocketfft.py:1107\u001b[0m, in \u001b[0;36mifft2\u001b[0;34m(a, s, axes, norm)\u001b[0m\n\u001b[1;32m   1017\u001b[0m \u001b[38;5;129m@array_function_dispatch\u001b[39m(_fftn_dispatcher)\n\u001b[1;32m   1018\u001b[0m \u001b[38;5;28;01mdef\u001b[39;00m\u001b[38;5;250m \u001b[39m\u001b[38;5;21mifft2\u001b[39m(a, s\u001b[38;5;241m=\u001b[39m\u001b[38;5;28;01mNone\u001b[39;00m, axes\u001b[38;5;241m=\u001b[39m(\u001b[38;5;241m-\u001b[39m\u001b[38;5;241m2\u001b[39m, \u001b[38;5;241m-\u001b[39m\u001b[38;5;241m1\u001b[39m), norm\u001b[38;5;241m=\u001b[39m\u001b[38;5;28;01mNone\u001b[39;00m):\n\u001b[1;32m   1019\u001b[0m \u001b[38;5;250m    \u001b[39m\u001b[38;5;124;03m\"\"\"\u001b[39;00m\n\u001b[1;32m   1020\u001b[0m \u001b[38;5;124;03m    Compute the 2-dimensional inverse discrete Fourier Transform.\u001b[39;00m\n\u001b[1;32m   1021\u001b[0m \n\u001b[0;32m   (...)\u001b[0m\n\u001b[1;32m   1105\u001b[0m \n\u001b[1;32m   1106\u001b[0m \u001b[38;5;124;03m    \"\"\"\u001b[39;00m\n\u001b[0;32m-> 1107\u001b[0m     \u001b[38;5;28;01mreturn\u001b[39;00m \u001b[43m_raw_fftnd\u001b[49m\u001b[43m(\u001b[49m\u001b[43ma\u001b[49m\u001b[43m,\u001b[49m\u001b[43m \u001b[49m\u001b[43ms\u001b[49m\u001b[43m,\u001b[49m\u001b[43m \u001b[49m\u001b[43maxes\u001b[49m\u001b[43m,\u001b[49m\u001b[43m \u001b[49m\u001b[43mifft\u001b[49m\u001b[43m,\u001b[49m\u001b[43m \u001b[49m\u001b[43mnorm\u001b[49m\u001b[43m)\u001b[49m\n",
      "File \u001b[0;32m~/Desktop/summerproject25/venv/lib/python3.9/site-packages/numpy/fft/_pocketfft.py:707\u001b[0m, in \u001b[0;36m_raw_fftnd\u001b[0;34m(a, s, axes, function, norm)\u001b[0m\n\u001b[1;32m    705\u001b[0m itl\u001b[38;5;241m.\u001b[39mreverse()\n\u001b[1;32m    706\u001b[0m \u001b[38;5;28;01mfor\u001b[39;00m ii \u001b[38;5;129;01min\u001b[39;00m itl:\n\u001b[0;32m--> 707\u001b[0m     a \u001b[38;5;241m=\u001b[39m \u001b[43mfunction\u001b[49m\u001b[43m(\u001b[49m\u001b[43ma\u001b[49m\u001b[43m,\u001b[49m\u001b[43m \u001b[49m\u001b[43mn\u001b[49m\u001b[38;5;241;43m=\u001b[39;49m\u001b[43ms\u001b[49m\u001b[43m[\u001b[49m\u001b[43mii\u001b[49m\u001b[43m]\u001b[49m\u001b[43m,\u001b[49m\u001b[43m \u001b[49m\u001b[43maxis\u001b[49m\u001b[38;5;241;43m=\u001b[39;49m\u001b[43maxes\u001b[49m\u001b[43m[\u001b[49m\u001b[43mii\u001b[49m\u001b[43m]\u001b[49m\u001b[43m,\u001b[49m\u001b[43m \u001b[49m\u001b[43mnorm\u001b[49m\u001b[38;5;241;43m=\u001b[39;49m\u001b[43mnorm\u001b[49m\u001b[43m)\u001b[49m\n\u001b[1;32m    708\u001b[0m \u001b[38;5;28;01mreturn\u001b[39;00m a\n",
      "File \u001b[0;32m~/Desktop/summerproject25/venv/lib/python3.9/site-packages/numpy/fft/_pocketfft.py:316\u001b[0m, in \u001b[0;36mifft\u001b[0;34m(a, n, axis, norm)\u001b[0m\n\u001b[1;32m    314\u001b[0m     n \u001b[38;5;241m=\u001b[39m a\u001b[38;5;241m.\u001b[39mshape[axis]\n\u001b[1;32m    315\u001b[0m inv_norm \u001b[38;5;241m=\u001b[39m _get_backward_norm(n, norm)\n\u001b[0;32m--> 316\u001b[0m output \u001b[38;5;241m=\u001b[39m \u001b[43m_raw_fft\u001b[49m\u001b[43m(\u001b[49m\u001b[43ma\u001b[49m\u001b[43m,\u001b[49m\u001b[43m \u001b[49m\u001b[43mn\u001b[49m\u001b[43m,\u001b[49m\u001b[43m \u001b[49m\u001b[43maxis\u001b[49m\u001b[43m,\u001b[49m\u001b[43m \u001b[49m\u001b[38;5;28;43;01mFalse\u001b[39;49;00m\u001b[43m,\u001b[49m\u001b[43m \u001b[49m\u001b[38;5;28;43;01mFalse\u001b[39;49;00m\u001b[43m,\u001b[49m\u001b[43m \u001b[49m\u001b[43minv_norm\u001b[49m\u001b[43m)\u001b[49m\n\u001b[1;32m    317\u001b[0m \u001b[38;5;28;01mreturn\u001b[39;00m output\n",
      "File \u001b[0;32m~/Desktop/summerproject25/venv/lib/python3.9/site-packages/numpy/fft/_pocketfft.py:73\u001b[0m, in \u001b[0;36m_raw_fft\u001b[0;34m(a, n, axis, is_real, is_forward, inv_norm)\u001b[0m\n\u001b[1;32m     71\u001b[0m \u001b[38;5;28;01melse\u001b[39;00m:\n\u001b[1;32m     72\u001b[0m     a \u001b[38;5;241m=\u001b[39m swapaxes(a, axis, \u001b[38;5;241m-\u001b[39m\u001b[38;5;241m1\u001b[39m)\n\u001b[0;32m---> 73\u001b[0m     r \u001b[38;5;241m=\u001b[39m \u001b[43mpfi\u001b[49m\u001b[38;5;241;43m.\u001b[39;49m\u001b[43mexecute\u001b[49m\u001b[43m(\u001b[49m\u001b[43ma\u001b[49m\u001b[43m,\u001b[49m\u001b[43m \u001b[49m\u001b[43mis_real\u001b[49m\u001b[43m,\u001b[49m\u001b[43m \u001b[49m\u001b[43mis_forward\u001b[49m\u001b[43m,\u001b[49m\u001b[43m \u001b[49m\u001b[43mfct\u001b[49m\u001b[43m)\u001b[49m\n\u001b[1;32m     74\u001b[0m     r \u001b[38;5;241m=\u001b[39m swapaxes(r, axis, \u001b[38;5;241m-\u001b[39m\u001b[38;5;241m1\u001b[39m)\n\u001b[1;32m     75\u001b[0m \u001b[38;5;28;01mreturn\u001b[39;00m r\n",
      "\u001b[0;31mKeyboardInterrupt\u001b[0m: "
     ]
    }
   ],
   "source": [
    "import sys, os, glob, time\n",
    "sys.path.append(\"../src\")\n",
    "os.environ[\"MPLBACKEND\"] = \"Agg\"  # avoids matplotlib backend issues from version changes\n",
    "\n",
    "start_time = time.time()\n",
    "\n",
    "import cv2\n",
    "from otsu import otsu_threshold\n",
    "from contrast_color import clahe_preserve_color\n",
    "from contour_crop_2 import contour_crop_binary\n",
    "from homomorphic_filter import homomorphic_filter_color\n",
    "from gaussian_noise_filtering import gaussian_denoise\n",
    "\n",
    "RAW_DIR = os.path.abspath(\"../data/raw_images\")\n",
    "OUT_DIR = os.path.abspath(\"../data/processed_images\")\n",
    "SUFFIX  = \"_processed_piplinetest13\"\n",
    "\n",
    "os.makedirs(OUT_DIR, exist_ok=True)\n",
    "\n",
    "# gather images\n",
    "exts = (\"*.jpg\",\"*.JPG\",\"*.jpeg\",\"*.JPEG\",\"*.png\",\"*.PNG\",\"*.tif\",\"*.tiff\",\"*.bmp\")\n",
    "files = [p for e in exts for p in glob.glob(os.path.join(RAW_DIR, e))]\n",
    "files.sort()\n",
    "\n",
    "if not files:\n",
    "    print(f\"No images found in {RAW_DIR}\")\n",
    "    raise SystemExit(0)\n",
    "\n",
    "ok = fail = 0\n",
    "for in_path in files:\n",
    "    try:\n",
    "        # 1) Homomorphic filtering\n",
    "        hf_img, fname = homomorphic_filter_color(in_path)\n",
    "        \n",
    "        # 2) CLAHE\n",
    "        clahe_img, _ = clahe_preserve_color(hf_img, fname)\n",
    "\n",
    "        # 3) Gaussian Denoising\n",
    "        noise_img, _ = gaussian_denoise(clahe_img, fname=fname)\n",
    "\n",
    "        # 3) Otsu\n",
    "        binary_t, _ = otsu_threshold(clahe_img, fname)\n",
    "\n",
    "        # 4) Contour crop\n",
    "        cropped_img, _ = contour_crop_binary(binary_t, noise_img, fname)\n",
    "\n",
    "        # 4) Save with same name + suffix\n",
    "        base, ext = os.path.splitext(fname)\n",
    "        out_name = f\"{base}{SUFFIX}{ext or '.jpg'}\"\n",
    "        out_path = os.path.join(OUT_DIR, out_name)\n",
    "        if not cv2.imwrite(out_path, cropped_img):\n",
    "            raise RuntimeError(\"cv2.imwrite returned False\")\n",
    "        ok += 1\n",
    "        print(f\"[OK] {os.path.basename(in_path)} -> {out_name}\")\n",
    "    except Exception as e:\n",
    "        fail += 1\n",
    "        print(f\"[FAIL] {os.path.basename(in_path)}: {e}\")\n",
    "\n",
    "print(f\"\\nDone. Saved {ok}. Failed {fail}. Output: {OUT_DIR}\")\n",
    "\n",
    "elapsed = time.time() - start_time\n",
    "print(f\"\\nTotal processing time: {elapsed: 2f} seconds\")"
   ]
  }
 ],
 "metadata": {
  "kernelspec": {
   "display_name": "venv",
   "language": "python",
   "name": "python3"
  },
  "language_info": {
   "codemirror_mode": {
    "name": "ipython",
    "version": 3
   },
   "file_extension": ".py",
   "mimetype": "text/x-python",
   "name": "python",
   "nbconvert_exporter": "python",
   "pygments_lexer": "ipython3",
   "version": "3.9.6"
  }
 },
 "nbformat": 4,
 "nbformat_minor": 5
}
