{
 "cells": [
  {
   "cell_type": "code",
   "execution_count": null,
   "id": "a0e6898d",
   "metadata": {},
   "outputs": [],
   "source": [
    "import cv2\n",
    "import os\n",
    "\n",
    "# Imports from your custom modules\n",
    "from Houghcrop import crop_image\n",
    "from src.contrast import clahe_color_image  # renamed from enhance_contrast\n",
    "from src.shadow_removal import remove_shadows\n",
    "from src.color_optimization import color_channel\n",
    "from src.illumination import optimize_illumination\n",
    "from src.noise_filtering import filter_noise\n",
    "from src.segmentation import segment\n",
    "\n",
    "# Set folders\n",
    "raw_folder = 'summerproject25/data/raw_images'\n",
    "processed_folder = 'summerproject25/data/processed_images'\n",
    "\n",
    "# Step 0: Load image by filename\n",
    "filename = 'placeholder.jpg'\n",
    "original_path = os.path.join(raw_folder, filename)\n",
    "original_img = cv2.imread(original_path)\n",
    "assert original_img is not None, f\"Image not found: {original_path}\"\n",
    "\n",
    "# Optional: Keep original for comparison\n",
    "original_copy = original_img.copy()\n",
    "\n",
    "# Step 1: CLAHE (contrast enhancement with grayscale → BGR)\n",
    "img, filename = clahe_color_image(filename, raw_folder=raw_folder)\n",
    "\n",
    "# Step 2: Crop Image\n",
    "img = crop_image(img)\n",
    "\n",
    "# Step 3: Remove Shadows \n",
    "img = remove_shadows(img)\n",
    "\n",
    "# Step 4: Illumination Optimization\n",
    "img = optimize_illumination(img)\n",
    "\n",
    "# Step 5: Color Correction \n",
    "img = color_channel(img)\n",
    "\n",
    "# Step 6: Filter Noise\n",
    "img = filter_noise(img)\n",
    "\n",
    "# Step 7: Segmentation\n",
    "img = segment(img)\n",
    "\n",
    "# Step 8: Save Final Output Image\n",
    "base, ext = os.path.splitext(filename)\n",
    "processed_filename = f\"{base}_processed{ext}\"\n",
    "output_path = os.path.join(processed_folder, processed_filename)\n",
    "cv2.imwrite(output_path, img)\n"
   ]
  },
  {
   "cell_type": "code",
   "execution_count": null,
   "id": "b34a7043",
   "metadata": {},
   "outputs": [],
   "source": []
  },
  {
   "cell_type": "code",
   "execution_count": null,
   "id": "0aa718a4",
   "metadata": {},
   "outputs": [],
   "source": []
  }
 ],
 "metadata": {
  "kernelspec": {
   "display_name": "venv",
   "language": "python",
   "name": "python3"
  },
  "language_info": {
   "codemirror_mode": {
    "name": "ipython",
    "version": 3
   },
   "file_extension": ".py",
   "mimetype": "text/x-python",
   "name": "python",
   "nbconvert_exporter": "python",
   "pygments_lexer": "ipython3",
   "version": "3.9.6"
  }
 },
 "nbformat": 4,
 "nbformat_minor": 5
}
