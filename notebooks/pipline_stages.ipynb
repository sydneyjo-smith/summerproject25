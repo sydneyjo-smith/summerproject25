{
 "cells": [
  {
   "cell_type": "code",
   "execution_count": null,
   "id": "a0e6898d",
   "metadata": {},
   "outputs": [],
   "source": [
    "#Imports\n",
    "from src.crop import crop_image\n",
    "from src.contrast import enhance_contrast\n",
    "from src.shadow_removal import remove_shadows\n",
    "from src.color_optimization import color_channel\n",
    "from src.illumination import optimize_illumination\n",
    "from src.noise_filtering import filter_noise\n",
    "from src.segmentation import segment\n",
    "\n",
    "#Load the image into the pipeline\n",
    "img = cv2.imread('summerproject25/data/raw_images/placeholder.jpg')\n",
    "#Am I missing a step here to duplicate the image so we have the original version available?\n",
    "\n",
    "#Step 1: Crop Image\n",
    "img = crop_image(img)\n",
    "\n",
    "#Step 2: Contrast Enhancement\n",
    "img = enhance_contrast(img)\n",
    "\n",
    "#Step 3: Remove Shadows \n",
    "img = remove_shadows(img)\n",
    "#Missing a step here: I still don't really know what I am doing about artifact removal\n",
    "\n",
    "#Step 4: Illumination Optimization\n",
    "img = optimize_illumination(img)\n",
    "\n",
    "#Step 5: Color correction \n",
    "img = color_channel(img)\n",
    "\n",
    "#Step 6: Filter Out Noise\n",
    "img = filter_noise(img)\n",
    "\n",
    "#Step 7: Segmentation\n",
    "img = segment(img)\n",
    "\n",
    "#Save the Final Output Image\n",
    "cv2.imwrite('summerproject25/data/processed_images/placeholderimage.jpg')\n",
    "\n",
    "#How do I add on the threshholding here?\n",
    "\n"
   ]
  }
 ],
 "metadata": {
  "kernelspec": {
   "display_name": "venv",
   "language": "python",
   "name": "python3"
  },
  "language_info": {
   "codemirror_mode": {
    "name": "ipython",
    "version": 3
   },
   "file_extension": ".py",
   "mimetype": "text/x-python",
   "name": "python",
   "nbconvert_exporter": "python",
   "pygments_lexer": "ipython3",
   "version": "3.9.6"
  }
 },
 "nbformat": 4,
 "nbformat_minor": 5
}
