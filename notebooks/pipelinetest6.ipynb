{
 "cells": [
  {
   "cell_type": "code",
   "execution_count": 3,
   "id": "cb87a3c7",
   "metadata": {},
   "outputs": [
    {
     "name": "stdout",
     "output_type": "stream",
     "text": [
      "[OK] T0004-04-06-2019_BL (2).JPG -> T0004-04-06-2019_BL (2)_processed_pipelinetest6.JPG\n",
      "[OK] T0011-06-06-2019_N.JPG -> T0011-06-06-2019_N_processed_pipelinetest6.JPG\n",
      "[OK] T0013-06-06-2019_BL (1).JPG -> T0013-06-06-2019_BL (1)_processed_pipelinetest6.JPG\n",
      "[OK] T0013-06-06-2019_N.JPG -> T0013-06-06-2019_N_processed_pipelinetest6.JPG\n",
      "[OK] T0017_10-06-2019 (1).JPG -> T0017_10-06-2019 (1)_processed_pipelinetest6.JPG\n",
      "[OK] T0019_2019-06-10_BL (1).JPG -> T0019_2019-06-10_BL (1)_processed_pipelinetest6.JPG\n",
      "[OK] T0026_13-06-2019_N.JPG -> T0026_13-06-2019_N_processed_pipelinetest6.JPG\n",
      "[OK] T0027_13-06-2019_N.JPG -> T0027_13-06-2019_N_processed_pipelinetest6.JPG\n",
      "[OK] T0028_13-06-2019_BL (2).JPG -> T0028_13-06-2019_BL (2)_processed_pipelinetest6.JPG\n",
      "[OK] T0036_17-06-2019_N.JPG -> T0036_17-06-2019_N_processed_pipelinetest6.JPG\n",
      "[OK] T0040_18-06-2019_N.JPG -> T0040_18-06-2019_N_processed_pipelinetest6.JPG\n",
      "[OK] T0043_19-06-2019_N.JPG -> T0043_19-06-2019_N_processed_pipelinetest6.JPG\n",
      "[OK] T0044_19-06-2019_BL (2).JPG -> T0044_19-06-2019_BL (2)_processed_pipelinetest6.JPG\n",
      "[OK] T0048_20-06-2019_BL (3).JPG -> T0048_20-06-2019_BL (3)_processed_pipelinetest6.JPG\n",
      "[OK] T0050_S0019_21-06-2019_N.JPG -> T0050_S0019_21-06-2019_N_processed_pipelinetest6.JPG\n",
      "[OK] T0057_27-06-2019_BL (2).JPG -> T0057_27-06-2019_BL (2)_processed_pipelinetest6.JPG\n",
      "[OK] T0057_27-06-2019_N.JPG -> T0057_27-06-2019_N_processed_pipelinetest6.JPG\n",
      "[OK] T0059_S0022_28-06-2019_BL (2).JPG -> T0059_S0022_28-06-2019_BL (2)_processed_pipelinetest6.JPG\n",
      "[OK] T0060_04-07-2019_N.JPG -> T0060_04-07-2019_N_processed_pipelinetest6.JPG\n",
      "[OK] T0061_04-07-2019_BL (1).JPG -> T0061_04-07-2019_BL (1)_processed_pipelinetest6.JPG\n",
      "[OK] T0074_S0028_09-07-2019_BL (3).JPG -> T0074_S0028_09-07-2019_BL (3)_processed_pipelinetest6.JPG\n",
      "[OK] T0076_09-07-2019_BL (2).JPG -> T0076_09-07-2019_BL (2)_processed_pipelinetest6.JPG\n",
      "[OK] T0082_15-07-2019_BL (3).JPG -> T0082_15-07-2019_BL (3)_processed_pipelinetest6.JPG\n",
      "[OK] T0099_07-08-2019_BL (3).JPG -> T0099_07-08-2019_BL (3)_processed_pipelinetest6.JPG\n"
     ]
    },
    {
     "ename": "KeyboardInterrupt",
     "evalue": "",
     "output_type": "error",
     "traceback": [
      "\u001b[0;31m---------------------------------------------------------------------------\u001b[0m",
      "\u001b[0;31mKeyboardInterrupt\u001b[0m                         Traceback (most recent call last)",
      "Cell \u001b[0;32mIn[3], line 28\u001b[0m\n\u001b[1;32m     25\u001b[0m \u001b[38;5;28;01mfor\u001b[39;00m in_path \u001b[38;5;129;01min\u001b[39;00m files:\n\u001b[1;32m     26\u001b[0m     \u001b[38;5;28;01mtry\u001b[39;00m:\n\u001b[1;32m     27\u001b[0m         \u001b[38;5;66;03m# 1) Top-hat optimization (L channel)\u001b[39;00m\n\u001b[0;32m---> 28\u001b[0m         contrast_img, fname \u001b[38;5;241m=\u001b[39m \u001b[43mclahe_preserve_color\u001b[49m\u001b[43m(\u001b[49m\u001b[43min_path\u001b[49m\u001b[43m)\u001b[49m\n\u001b[1;32m     30\u001b[0m         \u001b[38;5;66;03m# 2) Contour crop eye from raw images folder\u001b[39;00m\n\u001b[1;32m     31\u001b[0m         cropped_img, _ \u001b[38;5;241m=\u001b[39m contour_crop_eye(fname, input_folder\u001b[38;5;241m=\u001b[39mRAW_DIR)\n",
      "File \u001b[0;32m~/Desktop/summerproject25/notebooks/../src/contrast_color.py:38\u001b[0m, in \u001b[0;36mclahe_preserve_color\u001b[0;34m(image_or_path, raw_folder, clipLimit, tileGridSize, fname)\u001b[0m\n\u001b[1;32m     35\u001b[0m     base_filename \u001b[38;5;241m=\u001b[39m image_or_path  \u001b[38;5;66;03m# already base name\u001b[39;00m\n\u001b[1;32m     37\u001b[0m \u001b[38;5;28;01mwith\u001b[39;00m \u001b[38;5;28mopen\u001b[39m(image_path, \u001b[38;5;124m'\u001b[39m\u001b[38;5;124mrb\u001b[39m\u001b[38;5;124m'\u001b[39m) \u001b[38;5;28;01mas\u001b[39;00m f:\n\u001b[0;32m---> 38\u001b[0m     bgr \u001b[38;5;241m=\u001b[39m \u001b[43mcv2\u001b[49m\u001b[38;5;241;43m.\u001b[39;49m\u001b[43mimdecode\u001b[49m\u001b[43m(\u001b[49m\u001b[43mnp\u001b[49m\u001b[38;5;241;43m.\u001b[39;49m\u001b[43mfrombuffer\u001b[49m\u001b[43m(\u001b[49m\u001b[43mf\u001b[49m\u001b[38;5;241;43m.\u001b[39;49m\u001b[43mread\u001b[49m\u001b[43m(\u001b[49m\u001b[43m)\u001b[49m\u001b[43m,\u001b[49m\u001b[43m \u001b[49m\u001b[43mnp\u001b[49m\u001b[38;5;241;43m.\u001b[39;49m\u001b[43muint8\u001b[49m\u001b[43m)\u001b[49m\u001b[43m,\u001b[49m\u001b[43m \u001b[49m\u001b[43mcv2\u001b[49m\u001b[38;5;241;43m.\u001b[39;49m\u001b[43mIMREAD_COLOR\u001b[49m\u001b[43m)\u001b[49m\n\u001b[1;32m     39\u001b[0m \u001b[38;5;28;01mif\u001b[39;00m bgr \u001b[38;5;129;01mis\u001b[39;00m \u001b[38;5;28;01mNone\u001b[39;00m:\n\u001b[1;32m     40\u001b[0m     \u001b[38;5;28;01mraise\u001b[39;00m \u001b[38;5;167;01mValueError\u001b[39;00m(\u001b[38;5;124mf\u001b[39m\u001b[38;5;124m\"\u001b[39m\u001b[38;5;124mImage not found: \u001b[39m\u001b[38;5;132;01m{\u001b[39;00mimage_path\u001b[38;5;132;01m}\u001b[39;00m\u001b[38;5;124m\"\u001b[39m)\n",
      "\u001b[0;31mKeyboardInterrupt\u001b[0m: "
     ]
    }
   ],
   "source": [
    "import sys, os, glob\n",
    "sys.path.append(\"../src\")\n",
    "os.environ[\"MPLBACKEND\"] = \"Agg\"\n",
    "\n",
    "import cv2\n",
    "from contrast_color import clahe_preserve_color\n",
    "from contour_crop import contour_crop_eye\n",
    "\n",
    "RAW_DIR = os.path.abspath(\"../data/raw_images\")\n",
    "OUT_DIR = os.path.abspath(\"../data/processed_images\")\n",
    "SUFFIX  = \"_processed_pipelinetest6\"\n",
    "\n",
    "os.makedirs(OUT_DIR, exist_ok=True)\n",
    "\n",
    "# gather images\n",
    "exts = (\"*.jpg\",\"*.JPG\",\"*.jpeg\",\"*.JPEG\",\"*.png\",\"*.PNG\",\"*.tif\",\"*.tiff\",\"*.bmp\")\n",
    "files = [p for e in exts for p in glob.glob(os.path.join(RAW_DIR, e))]\n",
    "files.sort()\n",
    "\n",
    "if not files:\n",
    "    print(f\"No images found in {RAW_DIR}\")\n",
    "    raise SystemExit(0)\n",
    "\n",
    "ok = fail = 0\n",
    "for in_path in files:\n",
    "    try:\n",
    "        # 1) Top-hat optimization (L channel)\n",
    "        contrast_img, fname = clahe_preserve_color(in_path)\n",
    "\n",
    "        # 2) Contour crop eye from raw images folder\n",
    "        cropped_img, _ = contour_crop_eye(fname, input_folder=RAW_DIR)\n",
    "\n",
    "        # 3) Save with same name + suffix\n",
    "        base, ext = os.path.splitext(fname)\n",
    "        out_name = f\"{base}{SUFFIX}{ext or '.jpg'}\"\n",
    "        out_path = os.path.join(OUT_DIR, out_name)\n",
    "        if not cv2.imwrite(out_path, cropped_img):\n",
    "            raise RuntimeError(\"cv2.imwrite returned False\")\n",
    "        ok += 1\n",
    "        print(f\"[OK] {os.path.basename(in_path)} -> {out_name}\")\n",
    "    except Exception as e:\n",
    "        fail += 1\n",
    "        print(f\"[FAIL] {os.path.basename(in_path)}: {e}\")\n",
    "\n",
    "print(f\"\\nDone. Saved {ok}. Failed {fail}. Output: {OUT_DIR}\")"
   ]
  }
 ],
 "metadata": {
  "kernelspec": {
   "display_name": "venv",
   "language": "python",
   "name": "python3"
  },
  "language_info": {
   "codemirror_mode": {
    "name": "ipython",
    "version": 3
   },
   "file_extension": ".py",
   "mimetype": "text/x-python",
   "name": "python",
   "nbconvert_exporter": "python",
   "pygments_lexer": "ipython3",
   "version": "3.9.6"
  }
 },
 "nbformat": 4,
 "nbformat_minor": 5
}
