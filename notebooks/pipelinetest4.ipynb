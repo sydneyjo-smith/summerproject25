{
 "cells": [
  {
   "cell_type": "code",
   "execution_count": 1,
   "id": "77d91aa5",
   "metadata": {},
   "outputs": [
    {
     "name": "stdout",
     "output_type": "stream",
     "text": [
      "[OK] T0004-04-06-2019_BL (2).JPG -> T0004-04-06-2019_BL (2)_processed_pipelinetest4.JPG\n",
      "[OK] T0011-06-06-2019_N.JPG -> T0011-06-06-2019_N_processed_pipelinetest4.JPG\n",
      "[OK] T0013-06-06-2019_BL (1).JPG -> T0013-06-06-2019_BL (1)_processed_pipelinetest4.JPG\n",
      "[OK] T0013-06-06-2019_N.JPG -> T0013-06-06-2019_N_processed_pipelinetest4.JPG\n",
      "[OK] T0017_10-06-2019 (1).JPG -> T0017_10-06-2019 (1)_processed_pipelinetest4.JPG\n",
      "[OK] T0019_2019-06-10_BL (1).JPG -> T0019_2019-06-10_BL (1)_processed_pipelinetest4.JPG\n",
      "[OK] T0026_13-06-2019_N.JPG -> T0026_13-06-2019_N_processed_pipelinetest4.JPG\n",
      "[OK] T0027_13-06-2019_N.JPG -> T0027_13-06-2019_N_processed_pipelinetest4.JPG\n",
      "[OK] T0028_13-06-2019_BL (2).JPG -> T0028_13-06-2019_BL (2)_processed_pipelinetest4.JPG\n",
      "[OK] T0036_17-06-2019_N.JPG -> T0036_17-06-2019_N_processed_pipelinetest4.JPG\n",
      "[OK] T0040_18-06-2019_N.JPG -> T0040_18-06-2019_N_processed_pipelinetest4.JPG\n",
      "[OK] T0043_19-06-2019_N.JPG -> T0043_19-06-2019_N_processed_pipelinetest4.JPG\n",
      "[OK] T0044_19-06-2019_BL (2).JPG -> T0044_19-06-2019_BL (2)_processed_pipelinetest4.JPG\n",
      "[OK] T0048_20-06-2019_BL (3).JPG -> T0048_20-06-2019_BL (3)_processed_pipelinetest4.JPG\n",
      "[OK] T0050_S0019_21-06-2019_N.JPG -> T0050_S0019_21-06-2019_N_processed_pipelinetest4.JPG\n",
      "[OK] T0057_27-06-2019_BL (2).JPG -> T0057_27-06-2019_BL (2)_processed_pipelinetest4.JPG\n",
      "[OK] T0057_27-06-2019_N.JPG -> T0057_27-06-2019_N_processed_pipelinetest4.JPG\n",
      "[OK] T0059_S0022_28-06-2019_BL (2).JPG -> T0059_S0022_28-06-2019_BL (2)_processed_pipelinetest4.JPG\n",
      "[OK] T0060_04-07-2019_N.JPG -> T0060_04-07-2019_N_processed_pipelinetest4.JPG\n",
      "[OK] T0061_04-07-2019_BL (1).JPG -> T0061_04-07-2019_BL (1)_processed_pipelinetest4.JPG\n"
     ]
    },
    {
     "ename": "KeyboardInterrupt",
     "evalue": "",
     "output_type": "error",
     "traceback": [
      "\u001b[0;31m---------------------------------------------------------------------------\u001b[0m",
      "\u001b[0;31mKeyboardInterrupt\u001b[0m                         Traceback (most recent call last)",
      "Cell \u001b[0;32mIn[1], line 31\u001b[0m\n\u001b[1;32m     28\u001b[0m top_hat_img, fname \u001b[38;5;241m=\u001b[39m tophat_extract_l_channel(in_path)\n\u001b[1;32m     30\u001b[0m \u001b[38;5;66;03m# 2) Contour crop eye from raw images folder\u001b[39;00m\n\u001b[0;32m---> 31\u001b[0m cropped_img, _ \u001b[38;5;241m=\u001b[39m \u001b[43mcontour_crop_eye\u001b[49m\u001b[43m(\u001b[49m\u001b[43mfname\u001b[49m\u001b[43m,\u001b[49m\u001b[43m \u001b[49m\u001b[43minput_folder\u001b[49m\u001b[38;5;241;43m=\u001b[39;49m\u001b[43mRAW_DIR\u001b[49m\u001b[43m)\u001b[49m\n\u001b[1;32m     33\u001b[0m \u001b[38;5;66;03m# 3) Save with same name + suffix\u001b[39;00m\n\u001b[1;32m     34\u001b[0m base, ext \u001b[38;5;241m=\u001b[39m os\u001b[38;5;241m.\u001b[39mpath\u001b[38;5;241m.\u001b[39msplitext(fname)\n",
      "File \u001b[0;32m~/Desktop/summerproject25/notebooks/../src/contour_crop.py:42\u001b[0m, in \u001b[0;36mcontour_crop_eye\u001b[0;34m(img_or_filename, fname, input_folder, output_size, padding)\u001b[0m\n\u001b[1;32m     39\u001b[0m _, thresh \u001b[38;5;241m=\u001b[39m cv\u001b[38;5;241m.\u001b[39mthreshold(gray, \u001b[38;5;241m0\u001b[39m, \u001b[38;5;241m255\u001b[39m, cv\u001b[38;5;241m.\u001b[39mTHRESH_BINARY \u001b[38;5;241m+\u001b[39m cv\u001b[38;5;241m.\u001b[39mTHRESH_OTSU)\n\u001b[1;32m     41\u001b[0m \u001b[38;5;66;03m# Invert if needed to help find the contours\u001b[39;00m\n\u001b[0;32m---> 42\u001b[0m \u001b[38;5;28;01mif\u001b[39;00m \u001b[43mnp\u001b[49m\u001b[38;5;241;43m.\u001b[39;49m\u001b[43mmean\u001b[49m\u001b[43m(\u001b[49m\u001b[43mthresh\u001b[49m\u001b[43m)\u001b[49m \u001b[38;5;241m>\u001b[39m \u001b[38;5;241m127\u001b[39m:\n\u001b[1;32m     43\u001b[0m     thresh \u001b[38;5;241m=\u001b[39m cv\u001b[38;5;241m.\u001b[39mbitwise_not(thresh)\n\u001b[1;32m     45\u001b[0m \u001b[38;5;66;03m# Find contours\u001b[39;00m\n",
      "File \u001b[0;32m~/Desktop/summerproject25/venv/lib/python3.9/site-packages/numpy/core/fromnumeric.py:3504\u001b[0m, in \u001b[0;36mmean\u001b[0;34m(a, axis, dtype, out, keepdims, where)\u001b[0m\n\u001b[1;32m   3501\u001b[0m     \u001b[38;5;28;01melse\u001b[39;00m:\n\u001b[1;32m   3502\u001b[0m         \u001b[38;5;28;01mreturn\u001b[39;00m mean(axis\u001b[38;5;241m=\u001b[39maxis, dtype\u001b[38;5;241m=\u001b[39mdtype, out\u001b[38;5;241m=\u001b[39mout, \u001b[38;5;241m*\u001b[39m\u001b[38;5;241m*\u001b[39mkwargs)\n\u001b[0;32m-> 3504\u001b[0m \u001b[38;5;28;01mreturn\u001b[39;00m \u001b[43m_methods\u001b[49m\u001b[38;5;241;43m.\u001b[39;49m\u001b[43m_mean\u001b[49m\u001b[43m(\u001b[49m\u001b[43ma\u001b[49m\u001b[43m,\u001b[49m\u001b[43m \u001b[49m\u001b[43maxis\u001b[49m\u001b[38;5;241;43m=\u001b[39;49m\u001b[43maxis\u001b[49m\u001b[43m,\u001b[49m\u001b[43m \u001b[49m\u001b[43mdtype\u001b[49m\u001b[38;5;241;43m=\u001b[39;49m\u001b[43mdtype\u001b[49m\u001b[43m,\u001b[49m\n\u001b[1;32m   3505\u001b[0m \u001b[43m                      \u001b[49m\u001b[43mout\u001b[49m\u001b[38;5;241;43m=\u001b[39;49m\u001b[43mout\u001b[49m\u001b[43m,\u001b[49m\u001b[43m \u001b[49m\u001b[38;5;241;43m*\u001b[39;49m\u001b[38;5;241;43m*\u001b[39;49m\u001b[43mkwargs\u001b[49m\u001b[43m)\u001b[49m\n",
      "File \u001b[0;32m~/Desktop/summerproject25/venv/lib/python3.9/site-packages/numpy/core/_methods.py:118\u001b[0m, in \u001b[0;36m_mean\u001b[0;34m(a, axis, dtype, out, keepdims, where)\u001b[0m\n\u001b[1;32m    115\u001b[0m         dtype \u001b[38;5;241m=\u001b[39m mu\u001b[38;5;241m.\u001b[39mdtype(\u001b[38;5;124m'\u001b[39m\u001b[38;5;124mf4\u001b[39m\u001b[38;5;124m'\u001b[39m)\n\u001b[1;32m    116\u001b[0m         is_float16_result \u001b[38;5;241m=\u001b[39m \u001b[38;5;28;01mTrue\u001b[39;00m\n\u001b[0;32m--> 118\u001b[0m ret \u001b[38;5;241m=\u001b[39m \u001b[43mumr_sum\u001b[49m\u001b[43m(\u001b[49m\u001b[43marr\u001b[49m\u001b[43m,\u001b[49m\u001b[43m \u001b[49m\u001b[43maxis\u001b[49m\u001b[43m,\u001b[49m\u001b[43m \u001b[49m\u001b[43mdtype\u001b[49m\u001b[43m,\u001b[49m\u001b[43m \u001b[49m\u001b[43mout\u001b[49m\u001b[43m,\u001b[49m\u001b[43m \u001b[49m\u001b[43mkeepdims\u001b[49m\u001b[43m,\u001b[49m\u001b[43m \u001b[49m\u001b[43mwhere\u001b[49m\u001b[38;5;241;43m=\u001b[39;49m\u001b[43mwhere\u001b[49m\u001b[43m)\u001b[49m\n\u001b[1;32m    119\u001b[0m \u001b[38;5;28;01mif\u001b[39;00m \u001b[38;5;28misinstance\u001b[39m(ret, mu\u001b[38;5;241m.\u001b[39mndarray):\n\u001b[1;32m    120\u001b[0m     \u001b[38;5;28;01mwith\u001b[39;00m _no_nep50_warning():\n",
      "\u001b[0;31mKeyboardInterrupt\u001b[0m: "
     ]
    }
   ],
   "source": [
    "import sys, os, glob\n",
    "sys.path.append(\"../src\")\n",
    "os.environ[\"MPLBACKEND\"] = \"Agg\"\n",
    "\n",
    "import cv2\n",
    "from tophat_optimization_l import tophat_extract_l_channel\n",
    "from contour_crop import contour_crop_eye\n",
    "\n",
    "RAW_DIR = os.path.abspath(\"../data/raw_images\")\n",
    "OUT_DIR = os.path.abspath(\"../data/processed_images\")\n",
    "SUFFIX  = \"_processed_pipelinetest4\"\n",
    "\n",
    "os.makedirs(OUT_DIR, exist_ok=True)\n",
    "\n",
    "# gather images\n",
    "exts = (\"*.jpg\",\"*.JPG\",\"*.jpeg\",\"*.JPEG\",\"*.png\",\"*.PNG\",\"*.tif\",\"*.tiff\",\"*.bmp\")\n",
    "files = [p for e in exts for p in glob.glob(os.path.join(RAW_DIR, e))]\n",
    "files.sort()\n",
    "\n",
    "if not files:\n",
    "    print(f\"No images found in {RAW_DIR}\")\n",
    "    raise SystemExit(0)\n",
    "\n",
    "ok = fail = 0\n",
    "for in_path in files:\n",
    "    try:\n",
    "        # 1) Top-hat optimization (L channel)\n",
    "        top_hat_img, fname = tophat_extract_l_channel(in_path)\n",
    "\n",
    "        # 2) Contour crop eye from raw images folder\n",
    "        cropped_img, _ = contour_crop_eye(fname, input_folder=RAW_DIR)\n",
    "\n",
    "        # 3) Save with same name + suffix\n",
    "        base, ext = os.path.splitext(fname)\n",
    "        out_name = f\"{base}{SUFFIX}{ext or '.jpg'}\"\n",
    "        out_path = os.path.join(OUT_DIR, out_name)\n",
    "        if not cv2.imwrite(out_path, cropped_img):\n",
    "            raise RuntimeError(\"cv2.imwrite returned False\")\n",
    "        ok += 1\n",
    "        print(f\"[OK] {os.path.basename(in_path)} -> {out_name}\")\n",
    "    except Exception as e:\n",
    "        fail += 1\n",
    "        print(f\"[FAIL] {os.path.basename(in_path)}: {e}\")\n",
    "\n",
    "print(f\"\\nDone. Saved {ok}. Failed {fail}. Output: {OUT_DIR}\")\n",
    "\n"
   ]
  }
 ],
 "metadata": {
  "kernelspec": {
   "display_name": "venv",
   "language": "python",
   "name": "python3"
  },
  "language_info": {
   "codemirror_mode": {
    "name": "ipython",
    "version": 3
   },
   "file_extension": ".py",
   "mimetype": "text/x-python",
   "name": "python",
   "nbconvert_exporter": "python",
   "pygments_lexer": "ipython3",
   "version": "3.9.6"
  }
 },
 "nbformat": 4,
 "nbformat_minor": 5
}
